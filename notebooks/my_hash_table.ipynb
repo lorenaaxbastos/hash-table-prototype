{
 "cells": [
  {
   "cell_type": "markdown",
   "id": "0c743b4d-f06a-43e2-9107-68aeb1503729",
   "metadata": {},
   "source": [
    "# Developing a hash table prototype with Test-Driven Development (TDD)\n",
    "\n",
    "In this project, I'm delving into the creation of a hash table prototype, employing a disciplined approach known as test-driven development (TDD). This method ensures that my implementation adheres to defined specifications through the systematic design of tests before code creation.\n",
    "\n",
    "### Core Features\n",
    "\n",
    "This hash table prototype will encompass key functionalities critical for efficient data management:\n",
    "\n",
    "- **Initialization:** Establish an empty hash table.\n",
    "- **Insertion:** Incorporate a key-value pair into the hash table.\n",
    "- **Deletion:** Remove a key-value pair from the hash table.\n",
    "- **Retrieval:** Retrieve a value based on a given key in the hash table.\n",
    "- **Update:** Modify the value associated with an existing key.\n",
    "- **Existence Check:** Verify the presence of a specific key in the hash table.\n",
    "\n",
    "### Additional Features\n",
    "\n",
    "In addition to the core functionalities, this hash table prototype will integrate practical features to enhance its versatility:\n",
    "\n",
    "- **Dictionary Conversion:** Transform a Python dictionary into a hash table.\n",
    "- **Shallow Copy:** Generate a copy of an existing hash table.\n",
    "- **Default Value:** Provide a default value if a specified key is not found.\n",
    "- **Size Reporting:** Offer the count of key-value pairs stored in the hash table.\n",
    "- **Accessor Methods:** Retrieve keys, values, and key-value pairs.\n",
    "- **Iteration Support:** Enable iteration over the hash table.\n",
    "- **Equality Comparison:** Facilitate comparison using the equality test operator.\n",
    "- **Textual Representation:** Display a textual representation of the hash table."
   ]
  },
  {
   "cell_type": "code",
   "execution_count": 1,
   "id": "d6531b98-130b-4a2d-9816-ff7108a88384",
   "metadata": {},
   "outputs": [],
   "source": [
    "import sys\n",
    "sys.path.insert(1, \"/Users/loren/Documents/portfolio/hash-table-prototype/scripts/\")\n",
    "\n",
    "from hash_table import HashTable"
   ]
  },
  {
   "cell_type": "markdown",
   "id": "74a68127-6893-42f8-a986-468995fba580",
   "metadata": {},
   "source": [
    "## Testing\n",
    "\n",
    "Initialization:"
   ]
  },
  {
   "cell_type": "code",
   "execution_count": 2,
   "id": "fb9fb8d9-eca6-40d5-861f-ea6ae99a2cd7",
   "metadata": {},
   "outputs": [
    {
     "name": "stdout",
     "output_type": "stream",
     "text": [
      "{}\n"
     ]
    }
   ],
   "source": [
    "about_me = HashTable()\n",
    "print(about_me)"
   ]
  },
  {
   "cell_type": "markdown",
   "id": "1c8b260e-56db-4cc2-8fb5-c91411153b6f",
   "metadata": {},
   "source": [
    "Insertion:"
   ]
  },
  {
   "cell_type": "code",
   "execution_count": 3,
   "id": "aab05324-e7fa-4d01-9ab8-4aa851a0c9a1",
   "metadata": {},
   "outputs": [
    {
     "name": "stdout",
     "output_type": "stream",
     "text": [
      "{'name': 'Lorena', 'age': 30, 'hobbies': ['studying', 'playing', 'programming', 'reading']}\n"
     ]
    }
   ],
   "source": [
    "about_me[\"name\"] = \"Lorena\"\n",
    "about_me[\"age\"] = 30\n",
    "about_me[\"hobbies\"] = [\"studying\", \"playing\", \"programming\", \"reading\"]\n",
    "print(about_me)"
   ]
  },
  {
   "cell_type": "markdown",
   "id": "97509bc4-58a8-4cb6-884b-fc732c6fa0d5",
   "metadata": {},
   "source": [
    "Deletion:"
   ]
  },
  {
   "cell_type": "code",
   "execution_count": 4,
   "id": "0e4e40be-a4c4-498d-bf1c-4919b3418644",
   "metadata": {},
   "outputs": [
    {
     "name": "stdout",
     "output_type": "stream",
     "text": [
      "{'name': 'Lorena', 'age': 30}\n"
     ]
    }
   ],
   "source": [
    "del about_me[\"hobbies\"]\n",
    "print(about_me)"
   ]
  },
  {
   "cell_type": "markdown",
   "id": "626e88a9-5869-4dab-b488-c756ae5fc95a",
   "metadata": {},
   "source": [
    "Retrieval:"
   ]
  },
  {
   "cell_type": "code",
   "execution_count": 5,
   "id": "bceb1b30-6996-40b3-b3a6-778a557ef098",
   "metadata": {},
   "outputs": [
    {
     "name": "stdout",
     "output_type": "stream",
     "text": [
      "30\n"
     ]
    }
   ],
   "source": [
    "print(about_me[\"age\"])"
   ]
  },
  {
   "cell_type": "markdown",
   "id": "c3c88954-0786-4414-bd24-662fb682e3a0",
   "metadata": {},
   "source": [
    "Update:"
   ]
  },
  {
   "cell_type": "code",
   "execution_count": 6,
   "id": "43ea58ae-e582-42fc-94d8-8a771bd32388",
   "metadata": {},
   "outputs": [
    {
     "name": "stdout",
     "output_type": "stream",
     "text": [
      "{'name': 'Lorena Bastos', 'age': 30}\n"
     ]
    }
   ],
   "source": [
    "about_me[\"name\"] = \"Lorena Bastos\"\n",
    "print(about_me)"
   ]
  },
  {
   "cell_type": "markdown",
   "id": "b7deea99-4fec-4734-93db-a02364822dba",
   "metadata": {},
   "source": [
    "Existence Check:"
   ]
  },
  {
   "cell_type": "code",
   "execution_count": 7,
   "id": "cd3cea30-4f6f-4f40-b80d-70c36033f9d4",
   "metadata": {},
   "outputs": [
    {
     "name": "stdout",
     "output_type": "stream",
     "text": [
      "True\n",
      "False\n"
     ]
    }
   ],
   "source": [
    "print(\"name\" in about_me)\n",
    "print(\"hobbies\" in about_me)"
   ]
  },
  {
   "cell_type": "markdown",
   "id": "864272ee-a88d-4124-ab13-149a4efdd40a",
   "metadata": {},
   "source": [
    "Dictionary Conversion:"
   ]
  },
  {
   "cell_type": "code",
   "execution_count": 8,
   "id": "e694d2c7-0294-48b8-95d8-4b79c809df89",
   "metadata": {},
   "outputs": [
    {
     "name": "stdout",
     "output_type": "stream",
     "text": [
      "{'graduated': True, 'graduated_field': 'Visual Arts', '2nd_graduation': True, '2nd_graduation_field': 'Software Engineering', 'Bootcamps': ['Santander Coders']}\n",
      "<class 'hash_table.HashTable'>\n"
     ]
    }
   ],
   "source": [
    "studies = {\n",
    "    \"graduated\": True,\n",
    "    \"graduated_field\": \"Visual Arts\",\n",
    "    \"2nd_graduation\": True,\n",
    "    \"2nd_graduation_field\": \"Software Engineering\",\n",
    "    \"Bootcamps\": [\"Santander Coders\"]\n",
    "}\n",
    "\n",
    "my_studies = HashTable.from_dict(studies)\n",
    "print(my_studies)\n",
    "print(type(my_studies))"
   ]
  },
  {
   "cell_type": "markdown",
   "id": "9fd1e879-180d-475f-b93f-f5b4fd7f9883",
   "metadata": {},
   "source": [
    "Shallow Copy:"
   ]
  },
  {
   "cell_type": "code",
   "execution_count": 9,
   "id": "f8849186-c4a3-4d76-9e3d-3ad6d7f670ea",
   "metadata": {},
   "outputs": [
    {
     "name": "stdout",
     "output_type": "stream",
     "text": [
      "{'graduated': True, 'graduated_field': 'Visual Arts', '2nd_graduation': True, '2nd_graduation_field': 'Software Engineering', 'Bootcamps': ['Santander Coders']}\n",
      "{'graduated': True, 'graduated_field': 'Visual Arts', '2nd_graduation': True, '2nd_graduation_field': 'Software Engineering', 'Bootcamps': ['Santander Coders'], 'Reading': ['Data Science From Zero', \"The Drunkard's Walk: How Randomness Rules Our Lives\", 'Mathematics For Computer Science']}\n"
     ]
    }
   ],
   "source": [
    "my_studies2 = my_studies.copy()\n",
    "my_studies2[\"Reading\"] = [\"Data Science From Zero\", \"The Drunkard's Walk: How Randomness Rules Our Lives\", \"Mathematics For Computer Science\"]\n",
    "\n",
    "print(my_studies)\n",
    "print(my_studies2)"
   ]
  },
  {
   "cell_type": "markdown",
   "id": "bd3f4737-11da-4a56-a645-f0ba140de7c4",
   "metadata": {},
   "source": [
    "Default Value:"
   ]
  },
  {
   "cell_type": "code",
   "execution_count": 10,
   "id": "30ae109f-b6e8-48f0-a38c-dbf785089f07",
   "metadata": {},
   "outputs": [
    {
     "name": "stdout",
     "output_type": "stream",
     "text": [
      "30\n",
      "data scientist\n"
     ]
    }
   ],
   "source": [
    "print(about_me.get(\"age\", 18))\n",
    "print(about_me.get(\"job\", \"data scientist\"))"
   ]
  },
  {
   "cell_type": "markdown",
   "id": "af0c5f45-1f28-4618-beee-fd6a0b2854a6",
   "metadata": {},
   "source": [
    "Size Reporting:"
   ]
  },
  {
   "cell_type": "code",
   "execution_count": 11,
   "id": "dbf03d8f-ec1e-49d2-9b1c-29c44362815b",
   "metadata": {},
   "outputs": [
    {
     "name": "stdout",
     "output_type": "stream",
     "text": [
      "2\n",
      "5\n",
      "6\n"
     ]
    }
   ],
   "source": [
    "print(len(about_me))\n",
    "print(len(my_studies))\n",
    "print(len(my_studies2))"
   ]
  },
  {
   "cell_type": "markdown",
   "id": "36a49773-0e2e-44c8-83d5-74ff411ce627",
   "metadata": {},
   "source": [
    "Accessor Methods:"
   ]
  },
  {
   "cell_type": "code",
   "execution_count": 12,
   "id": "75e115dd-f516-4bc8-baf4-79b14bd3476a",
   "metadata": {},
   "outputs": [
    {
     "name": "stdout",
     "output_type": "stream",
     "text": [
      "['name', 'age']\n",
      "['Lorena Bastos', 30]\n",
      "[('graduated', True), ('graduated_field', 'Visual Arts'), ('2nd_graduation', True), ('2nd_graduation_field', 'Software Engineering'), ('Bootcamps', ['Santander Coders']), ('Reading', ['Data Science From Zero', \"The Drunkard's Walk: How Randomness Rules Our Lives\", 'Mathematics For Computer Science'])]\n"
     ]
    }
   ],
   "source": [
    "print(about_me.keys)\n",
    "print(about_me.values)\n",
    "print(my_studies2.items)"
   ]
  },
  {
   "cell_type": "markdown",
   "id": "d347dfd3-7e63-4787-bf55-be22f50bb034",
   "metadata": {},
   "source": [
    "Iteration Support:"
   ]
  },
  {
   "cell_type": "code",
   "execution_count": 13,
   "id": "853961e9-109d-4933-a139-12c0737f89ae",
   "metadata": {},
   "outputs": [
    {
     "name": "stdout",
     "output_type": "stream",
     "text": [
      "Name: Lorena Bastos\n",
      "Age: 30\n"
     ]
    }
   ],
   "source": [
    "for key, value in about_me.items:\n",
    "    print(f\"{key.title()}: {value}\")"
   ]
  },
  {
   "cell_type": "markdown",
   "id": "41615bd4-7589-4c5d-baf2-2a2d40ca6aaf",
   "metadata": {},
   "source": [
    "Equality Comparison:"
   ]
  },
  {
   "cell_type": "code",
   "execution_count": 14,
   "id": "de5ed782-5a50-416c-ae1a-99b12139efc0",
   "metadata": {},
   "outputs": [
    {
     "name": "stdout",
     "output_type": "stream",
     "text": [
      "False\n",
      "True\n"
     ]
    }
   ],
   "source": [
    "print(my_studies == my_studies2)\n",
    "del my_studies2[\"Reading\"]\n",
    "print(my_studies == my_studies2)"
   ]
  },
  {
   "cell_type": "markdown",
   "id": "1df4c025-fb1c-474a-88b6-dea2cf6432c3",
   "metadata": {},
   "source": [
    "Textual Representation:"
   ]
  },
  {
   "cell_type": "code",
   "execution_count": 15,
   "id": "fe6a5752-b032-4d46-b566-1cf7963449eb",
   "metadata": {},
   "outputs": [
    {
     "data": {
      "text/plain": [
       "HashTable.from_dict({'name': 'Lorena Bastos', 'age': 30})"
      ]
     },
     "execution_count": 15,
     "metadata": {},
     "output_type": "execute_result"
    }
   ],
   "source": [
    "about_me"
   ]
  },
  {
   "cell_type": "code",
   "execution_count": 16,
   "id": "d60ec2e4-e45f-4f83-8fff-081746a2c5dc",
   "metadata": {},
   "outputs": [
    {
     "name": "stdout",
     "output_type": "stream",
     "text": [
      "{'name': 'Lorena Bastos', 'age': 30}\n"
     ]
    }
   ],
   "source": [
    "print(about_me)"
   ]
  },
  {
   "cell_type": "markdown",
   "id": "80a0db77-e7f8-4cb1-9afd-da43775b223a",
   "metadata": {},
   "source": [
    "I successfully developed a hash table from the ground up in Python, employing various strategies to effectively handle hash collisions. Initially, I adopted the linear probing strategy, but later transitioned to separate chaining, isolating collided keys for improved performance. Furthermore, I gained expertise in dynamically resizing and rehashing the hash table to accommodate growing datasets while maintaining the insertion order of key-value pairs.\r\n",
    "\r\n",
    "Throughout this process, I delved into various aspects of the hash table data structure, including the intricacies of hash functions and distinctions between hashable and unhashable data types. Overall, this hands-on experience provided me with a comprehensive understanding of the nuances involved in implementing and optimizing a hash table in Python."
   ]
  }
 ],
 "metadata": {
  "kernelspec": {
   "display_name": "Python 3 (ipykernel)",
   "language": "python",
   "name": "python3"
  },
  "language_info": {
   "codemirror_mode": {
    "name": "ipython",
    "version": 3
   },
   "file_extension": ".py",
   "mimetype": "text/x-python",
   "name": "python",
   "nbconvert_exporter": "python",
   "pygments_lexer": "ipython3",
   "version": "3.12.1"
  }
 },
 "nbformat": 4,
 "nbformat_minor": 5
}
