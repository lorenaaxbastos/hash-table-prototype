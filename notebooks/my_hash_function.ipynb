{
 "cells": [
  {
   "cell_type": "markdown",
   "id": "fccdfa93-5266-4f10-9385-9307710002fa",
   "metadata": {},
   "source": [
    "# Crafting my own hash function\n",
    "\n",
    "When aiming to develop an effective hash function, several key features should be considered:\n",
    "\n",
    "- **Deterministic:** Ensuring that the same input consistently produces the same output.\n",
    "- **Universal input:** Handling a wide range of input types or data structures.\n",
    "- **Fixed-sized output:** Generating a hash of consistent length regardless of input size.\n",
    "- **Fast to compute:** Optimizing for efficiency to process hashes quickly.\n",
    "- **Uniformly distributed:** Distributing hash values evenly across the output space.\n",
    "\n",
    "Additionally, some desirable extras to incorporate, specially for encryption, are:\n",
    "\n",
    "- **Randomly distributed:** Ensuring a balanced distribution of hash values.\n",
    "- **Randomized seed:** Introducing randomness for enhanced security.\n",
    "- **One-way function:** Preventing reverse engineering to retrieve original data.\n",
    "- **Avalanche effect:** Producing significant changes in output with minimal changes in input.\n",
    "\n",
    "Designing a hash function that fulfills all these requirements from scratch is undoubtedly challenging, and **for now** that isn't my goal.\n",
    "\n",
    "Embarking on the journey of creating a hash function from scratch offers an invaluable learning opportunity. By the end of this endeavor, the result may be a rudimentary hash function, far from perfect, but the insights gained will be invaluable."
   ]
  },
  {
   "cell_type": "code",
   "execution_count": 1,
   "id": "462c738c-ae58-4605-8e43-5cbb315db3b3",
   "metadata": {},
   "outputs": [],
   "source": [
    "import sys"
   ]
  },
  {
   "cell_type": "code",
   "execution_count": 2,
   "id": "eb30cdd9-7478-4a2f-a06d-aae42ce466db",
   "metadata": {},
   "outputs": [],
   "source": [
    "def hash_function(value):\n",
    "    if isinstance(value, dict) or isinstance(value, set) or isinstance(value, list):\n",
    "        raise Exception(\"Only works for immutable types.\")\n",
    "        \n",
    "    output_size = len(str(sys.maxsize))\n",
    "    basic_hash = \"\"\n",
    "    order = 1\n",
    "    result = 0\n",
    "    while len(basic_hash) < output_size:\n",
    "        if result == 0:\n",
    "            for i, char in enumerate(repr(value).lstrip(\"'\"), 1):\n",
    "                if len(str(result)) >= output_size:\n",
    "                    return int(result[:output_size])\n",
    "                result += i * ord(char)\n",
    "        else:\n",
    "            basic_hash += str(result % order)\n",
    "            order += 10\n",
    "        \n",
    "    return int(basic_hash[:output_size])"
   ]
  },
  {
   "cell_type": "markdown",
   "id": "465ca06c-4061-4b23-a701-b717bfa5af1a",
   "metadata": {},
   "source": [
    "## Testing"
   ]
  },
  {
   "cell_type": "markdown",
   "id": "c5fcb9b5-9862-4760-bbb4-5528438e4fde",
   "metadata": {},
   "source": [
    "Hash output example:"
   ]
  },
  {
   "cell_type": "code",
   "execution_count": 3,
   "id": "4f0a189f-8d35-46d1-980f-3689c1730a65",
   "metadata": {},
   "outputs": [
    {
     "data": {
      "text/plain": [
       "333040184114426667"
      ]
     },
     "execution_count": 3,
     "metadata": {},
     "output_type": "execute_result"
    }
   ],
   "source": [
    "hash_function(\"I love Python!\")"
   ]
  },
  {
   "cell_type": "markdown",
   "id": "faec9b70-d2f4-4638-8063-23c3575fe704",
   "metadata": {},
   "source": [
    "Deterministic: `True`"
   ]
  },
  {
   "cell_type": "code",
   "execution_count": 4,
   "id": "289da02e-9e5c-441e-b9c0-77253346b1ed",
   "metadata": {},
   "outputs": [
    {
     "data": {
      "text/plain": [
       "True"
      ]
     },
     "execution_count": 4,
     "metadata": {},
     "output_type": "execute_result"
    }
   ],
   "source": [
    "hash_function(18) == hash_function(18)"
   ]
  },
  {
   "cell_type": "markdown",
   "id": "f88537ae-0de9-49e3-82c4-2b39636c4576",
   "metadata": {},
   "source": [
    "Universal input: `True`"
   ]
  },
  {
   "cell_type": "code",
   "execution_count": 5,
   "id": "e8ba61fe-4f84-405f-b29a-3523779247e5",
   "metadata": {},
   "outputs": [
    {
     "data": {
      "text/plain": [
       "False"
      ]
     },
     "execution_count": 5,
     "metadata": {},
     "output_type": "execute_result"
    }
   ],
   "source": [
    "hash_function(3.14) == hash_function(\"3.14\")"
   ]
  },
  {
   "cell_type": "markdown",
   "id": "43874f13-0ca2-4bf5-bdbc-090eb7cf3305",
   "metadata": {},
   "source": [
    "Fixed-sized output: `True`"
   ]
  },
  {
   "cell_type": "code",
   "execution_count": 6,
   "id": "8f95e3f2-4e8c-40ef-a2ef-98ad0d118b34",
   "metadata": {},
   "outputs": [
    {
     "data": {
      "text/plain": [
       "True"
      ]
     },
     "execution_count": 6,
     "metadata": {},
     "output_type": "execute_result"
    }
   ],
   "source": [
    "len(str(hash_function(10_000_028))) == len(str(hash_function(\"Data Science is awesome!\")))"
   ]
  },
  {
   "cell_type": "markdown",
   "id": "b39493c6-c0d4-4ec0-aedc-2033b05137b4",
   "metadata": {},
   "source": [
    "Fast to compute: `False`"
   ]
  },
  {
   "cell_type": "code",
   "execution_count": 7,
   "id": "2a54c6b0-1ca0-401c-a50b-473917220f7f",
   "metadata": {},
   "outputs": [],
   "source": [
    "from time import perf_counter"
   ]
  },
  {
   "cell_type": "code",
   "execution_count": 8,
   "id": "1cd20bee-1c87-4346-ac1a-bc558ffd8ebe",
   "metadata": {},
   "outputs": [
    {
     "name": "stdout",
     "output_type": "stream",
     "text": [
      "Elapsed time: 0.011321300000417978\n"
     ]
    }
   ],
   "source": [
    "start = perf_counter()\n",
    "hash(\"This is a looooong string\" * 1_000_000) # hash built-in function\n",
    "stop = perf_counter()\n",
    "print(f\"Elapsed time: {stop - start}\")"
   ]
  },
  {
   "cell_type": "code",
   "execution_count": 9,
   "id": "646da4be-4cd2-4600-b9c7-fc98ede6aecf",
   "metadata": {},
   "outputs": [
    {
     "name": "stdout",
     "output_type": "stream",
     "text": [
      "Elapsed time: 7.3015291999909095\n"
     ]
    }
   ],
   "source": [
    "start = perf_counter()\n",
    "hash_function(\"This is a looooong string\" * 1_000_000) # my_hash_function\n",
    "stop = perf_counter()\n",
    "print(f\"Elapsed time: {stop - start}\")"
   ]
  },
  {
   "cell_type": "markdown",
   "id": "b698b829-d793-4d72-83d7-3e6758101412",
   "metadata": {},
   "source": [
    "Uniformly distributed: `False`"
   ]
  },
  {
   "cell_type": "code",
   "execution_count": 10,
   "id": "37be272f-0256-4355-a745-6fed6a302bcf",
   "metadata": {},
   "outputs": [],
   "source": [
    "from hash_distribution import plot, distribute\n",
    "from string import printable"
   ]
  },
  {
   "cell_type": "code",
   "execution_count": 11,
   "id": "e6d241e4-5008-4862-b6ab-98a1d2369ce8",
   "metadata": {},
   "outputs": [
    {
     "name": "stdout",
     "output_type": "stream",
     "text": [
      "  0 ■■■■■■■■■■■■■■■■     (16)\n",
      "  1 ■■■■■■■■■■■■■■■■     (16)\n",
      "  2 ■■■■■■■■■■■■■■■■■■■  (19)\n",
      "  3 ■■■■■■■■■■■■■■■■■■■■ (20)\n",
      "  4 ■■■■■■■■■■■■■        (13)\n",
      "  5 ■■■■■■■■■■■■■■■■     (16)\n"
     ]
    }
   ],
   "source": [
    "plot(distribute(printable, num_containers=6)) # hash built-in function"
   ]
  },
  {
   "cell_type": "code",
   "execution_count": 12,
   "id": "10f4daac-a134-4e85-9dba-9345aa78f6a3",
   "metadata": {},
   "outputs": [
    {
     "name": "stdout",
     "output_type": "stream",
     "text": [
      "  0 ■■■■■■■■■                     (9)\n",
      "  1 ■■■■■■■■■■■■                  (12)\n",
      "  2 ■■■■■■■■■■■■■                 (13)\n",
      "  3 ■■■■■■■■■■■■■■■■■■■■■■■■■■■■■ (29)\n",
      "  4 ■■■■■■■■■■■■■■■               (15)\n",
      "  5 ■■■■■■■■■■■■■■■■■■■■■■        (22)\n"
     ]
    }
   ],
   "source": [
    "plot(distribute(printable, num_containers=6, hash_function=hash_function)) # my_hash_function"
   ]
  }
 ],
 "metadata": {
  "kernelspec": {
   "display_name": "Python 3 (ipykernel)",
   "language": "python",
   "name": "python3"
  },
  "language_info": {
   "codemirror_mode": {
    "name": "ipython",
    "version": 3
   },
   "file_extension": ".py",
   "mimetype": "text/x-python",
   "name": "python",
   "nbconvert_exporter": "python",
   "pygments_lexer": "ipython3",
   "version": "3.12.0"
  }
 },
 "nbformat": 4,
 "nbformat_minor": 5
}
