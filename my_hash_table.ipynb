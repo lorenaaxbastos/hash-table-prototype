{
 "cells": [
  {
   "cell_type": "markdown",
   "id": "0c743b4d-f06a-43e2-9107-68aeb1503729",
   "metadata": {},
   "source": [
    "# Developing a hash table prototype with Test-Driven Development (TDD)\n",
    "\n",
    "In this project, I'm delving into the creation of a hash table prototype, employing a disciplined approach known as test-driven development (TDD). This method ensures that my implementation adheres to defined specifications through the systematic design of tests before code creation.\n",
    "\n",
    "### Core Features\n",
    "\n",
    "This hash table prototype will encompass key functionalities critical for efficient data management:\n",
    "\n",
    "- **Initialization:** Establish an empty hash table.\n",
    "- **Insertion:** Incorporate a key-value pair into the hash table.\n",
    "- **Deletion:** Remove a key-value pair from the hash table.\n",
    "- **Retrieval:** Retrieve a value based on a given key in the hash table.\n",
    "- **Update:** Modify the value associated with an existing key.\n",
    "- **Existence Check:** Verify the presence of a specific key in the hash table.\n",
    "\n",
    "### Additional Features\n",
    "\n",
    "In addition to the core functionalities, this hash table prototype will integrate practical features to enhance its versatility:\n",
    "\n",
    "- **Dictionary Conversion:** Transform a Python dictionary into a hash table.\n",
    "- **Shallow Copy:** Generate a copy of an existing hash table.\n",
    "- **Default Value:** Provide a default value if a specified key is not found.\n",
    "- **Size Reporting:** Offer the count of key-value pairs stored in the hash table.\n",
    "- **Accessor Methods:** Retrieve keys, values, and key-value pairs.\n",
    "- **Iteration Support:** Enable iteration over the hash table.\n",
    "- **Equality Comparison:** Facilitate comparison using the equality test operator.\n",
    "- **Textual Representation:** Display a textual representation of the hash table."
   ]
  },
  {
   "cell_type": "code",
   "execution_count": 2,
   "id": "d6531b98-130b-4a2d-9816-ff7108a88384",
   "metadata": {},
   "outputs": [],
   "source": [
    "from hash_table import HashTable\n",
    "\n",
    "about_me = HashTable(capacity=5)"
   ]
  },
  {
   "cell_type": "code",
   "execution_count": 3,
   "id": "e997edde-2ff9-4ddc-98ca-e89f2e20a0eb",
   "metadata": {},
   "outputs": [
    {
     "data": {
      "text/plain": [
       "5"
      ]
     },
     "execution_count": 3,
     "metadata": {},
     "output_type": "execute_result"
    }
   ],
   "source": [
    "len(about_me)"
   ]
  }
 ],
 "metadata": {
  "kernelspec": {
   "display_name": "Python 3 (ipykernel)",
   "language": "python",
   "name": "python3"
  },
  "language_info": {
   "codemirror_mode": {
    "name": "ipython",
    "version": 3
   },
   "file_extension": ".py",
   "mimetype": "text/x-python",
   "name": "python",
   "nbconvert_exporter": "python",
   "pygments_lexer": "ipython3",
   "version": "3.12.1"
  }
 },
 "nbformat": 4,
 "nbformat_minor": 5
}
